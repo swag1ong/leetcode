{
 "cells": [
  {
   "cell_type": "markdown",
   "metadata": {
    "collapsed": true,
    "pycharm": {
     "name": "#%% md\n"
    }
   },
   "source": [
    "# Linked list problems\n",
    "\n",
    "## 141. Linked List Cycle\n",
    "\n",
    "Given head, the head of a linked list, determine if the linked list has a cycle in it.\n",
    "\n",
    "There is a cycle in a linked list if there is some node in the list that can be reached again by continuously following the next pointer. Internally, pos is used to denote the index of the node that tail's next pointer is connected to. Note that pos is not passed as a parameter.\n",
    "\n",
    "Return true if there is a cycle in the linked list. Otherwise, return false.\n",
    "\n",
    "### Solution:\n",
    "\n",
    "define two pointers, one slow and one fast, if the list has no cycle, fast will be None eventually which triggers an attribute error,\n",
    "if two pointers meet each other, that implies the linked list has cycle."
   ]
  },
  {
   "cell_type": "code",
   "execution_count": null,
   "outputs": [],
   "source": [
    "# Definition for singly-linked list.\n",
    "# class ListNode:\n",
    "#     def __init__(self, x):\n",
    "#         self.val = x\n",
    "#         self.next = None\n",
    "\n",
    "class Solution(object):\n",
    "\n",
    "    def hasCycle(self, head):\n",
    "\n",
    "        # define two head\n",
    "        try:\n",
    "\n",
    "            slow = head\n",
    "            fast = head.next\n",
    "\n",
    "            while slow != fast:\n",
    "\n",
    "                slow = slow.next\n",
    "                fast = fast.next.next\n",
    "\n",
    "            return True\n",
    "\n",
    "        except AttributeError:\n",
    "\n",
    "            return False"
   ],
   "metadata": {
    "collapsed": false,
    "pycharm": {
     "name": "#%%\n"
    }
   }
  },
  {
   "cell_type": "markdown",
   "source": [
    "## 142. Linked List Cycle II\n",
    "Given a linked list, return the node where the cycle begins. If there is no cycle, return null.\n",
    "\n",
    "There is a cycle in a linked list if there is some node in the list that can be reached again by continuously following the next pointer. Internally, pos is used to denote the index of the node that tail's next pointer is connected to. Note that pos is not passed as a parameter.\n",
    "\n",
    "Notice that you should not modify the linked list.\n",
    "\n",
    "###"
   ],
   "metadata": {
    "collapsed": false
   }
  },
  {
   "cell_type": "code",
   "execution_count": 1,
   "outputs": [],
   "source": [],
   "metadata": {
    "collapsed": false,
    "pycharm": {
     "name": "#%%\n"
    }
   }
  },
  {
   "cell_type": "markdown",
   "source": [
    "## 234. Palindrome Linked List\n",
    "\n",
    "Given a singly linked list, determine if it is a palindrome.\n"
   ],
   "metadata": {
    "collapsed": false,
    "pycharm": {
     "name": "#%% md\n"
    }
   }
  },
  {
   "cell_type": "code",
   "execution_count": null,
   "outputs": [],
   "source": [],
   "metadata": {
    "collapsed": false,
    "pycharm": {
     "name": "#%%\n"
    }
   }
  },
  {
   "cell_type": "markdown",
   "source": [
    "## 160. Intersection of Two Linked Lists\n",
    "\n",
    "Write a program to find the node at which the intersection of two singly linked lists begins.\n",
    "\n",
    "<img src=\"160.png\">\n",
    "\n",
    "### Solution:\n",
    "One solution to solve this in $O(n), O(1)$ is to first find the length of each linked list, then we segment each linked list to\n",
    "the same length, lastly, we go over two lists again, one element at time, check if they are the same"
   ],
   "metadata": {
    "collapsed": false
   }
  },
  {
   "cell_type": "code",
   "execution_count": null,
   "outputs": [],
   "source": [
    "# Definition for singly-linked list.\n",
    "# class ListNode:\n",
    "#     def __init__(self, x):\n",
    "#         self.val = x\n",
    "#         self.next = None\n",
    "\n",
    "class Solution:\n",
    "    def getIntersectionNode(self, headA: ListNode, headB: ListNode) -> ListNode:\n",
    "\n",
    "        count_a = 0\n",
    "        count_b = 0\n",
    "        a = headA\n",
    "        b = headB\n",
    "\n",
    "        # find length of first list\n",
    "        while a:\n",
    "            a = a.next\n",
    "            count_a += 1\n",
    "        # find length of second list\n",
    "        while b:\n",
    "            b = b.next\n",
    "            count_b += 1\n",
    "\n",
    "        # find difference between length\n",
    "        diff = count_a - count_b\n",
    "\n",
    "        # adjust the longer\n",
    "        if diff < 0:\n",
    "            adjust = headB\n",
    "            ref = headA\n",
    "            diff = -diff\n",
    "\n",
    "        else:\n",
    "            adjust = headA\n",
    "            ref = headB\n",
    "\n",
    "        while diff > 0:\n",
    "            adjust = adjust.next\n",
    "            diff -= 1\n",
    "\n",
    "        while adjust:\n",
    "\n",
    "            if adjust == ref:\n",
    "\n",
    "                return adjust\n",
    "\n",
    "            adjust, ref = adjust.next, ref.next\n",
    "\n",
    "        return None"
   ],
   "metadata": {
    "collapsed": false,
    "pycharm": {
     "name": "#%%\n"
    }
   }
  },
  {
   "cell_type": "markdown",
   "source": [
    "## 83. Remove Duplicates from Sorted List\n",
    "\n",
    "Given the head of a sorted linked list, delete all duplicates such that each element appears only once. Return the linked list sorted as well.\n",
    "\n",
    "<img src=\"83.jpg\">\n",
    "\n",
    "### Solution:\n",
    "iterate over all elements in head, if head.val = head.next.val, remove next element, and stay in current node, else proceed."
   ],
   "metadata": {
    "collapsed": false
   }
  },
  {
   "cell_type": "code",
   "execution_count": null,
   "outputs": [],
   "source": [
    "# Definition for singly-linked list.\n",
    "# class ListNode:\n",
    "#     def __init__(self, val=0, next=None):\n",
    "#         self.val = val\n",
    "#         self.next = next\n",
    "class Solution:\n",
    "    def deleteDuplicates(self, head: ListNode) -> ListNode:\n",
    "\n",
    "        curr_node = head\n",
    "\n",
    "        while curr_node and curr_node.next:\n",
    "\n",
    "            # if duplicates, we remove the next and stays at the same node so we can remove multiple duplicates in a sequence\n",
    "            if curr_node.val == curr_node.next.val:\n",
    "                curr_node.next = curr_node.next.next\n",
    "\n",
    "            else:\n",
    "                curr_node = curr_node.next\n",
    "\n",
    "        return head\n"
   ],
   "metadata": {
    "collapsed": false,
    "pycharm": {
     "name": "#%%\n"
    }
   }
  },
  {
   "cell_type": "markdown",
   "source": [
    "## 21. Merge Two Sorted Lists\n",
    "\n",
    "Merge two sorted linked lists and return it as a sorted list. The list should be made by splicing together the nodes of the first two lists.\n",
    "\n",
    "<img src=\"21.jpg\">\n",
    "\n",
    "### Solution:\n",
    "first, find the list with smallest starting node, then add l2 to l1 one by one."
   ],
   "metadata": {
    "collapsed": false
   }
  },
  {
   "cell_type": "code",
   "execution_count": null,
   "outputs": [],
   "source": [
    "# Definition for singly-linked list.\n",
    "# class ListNode:\n",
    "#     def __init__(self, val=0, next=None):\n",
    "#         self.val = val\n",
    "#         self.next = next\n",
    "\n",
    "## iterative\n",
    "class Solution:\n",
    "    def mergeTwoLists(self, l1: ListNode, l2: ListNode) -> ListNode:\n",
    "\n",
    "        if l1 and l2:\n",
    "\n",
    "            if l1.val <= l2.val:\n",
    "                out, temp = l1, l1\n",
    "                ref = l2\n",
    "\n",
    "            else:\n",
    "                out, temp = l2, l2\n",
    "                ref = l1\n",
    "        else:\n",
    "\n",
    "            return l1 or l2\n",
    "\n",
    "        while ref:\n",
    "\n",
    "            if temp.next:\n",
    "\n",
    "                if ref.val <= temp.next.val:\n",
    "                    temp.next, ref, ref_next = ref, ref.next, temp.next\n",
    "                    temp.next.next, temp = ref_next, temp.next\n",
    "\n",
    "                else:\n",
    "                    temp = temp.next\n",
    "\n",
    "            else:\n",
    "\n",
    "                temp.next = ref\n",
    "\n",
    "                return out\n",
    "\n",
    "## recursive\n",
    "    def mergeTwoLists2(self, l1, l2):\n",
    "\n",
    "        if not l1 or not l2:\n",
    "\n",
    "            return l1 or l2\n",
    "\n",
    "        if l1.val < l2.val:\n",
    "            l1.next = self.mergeTwoLists(l1.next, l2)\n",
    "\n",
    "            return l1\n",
    "\n",
    "        else:\n",
    "            l2.next = self.mergeTwoLists(l1, l2.next)\n",
    "\n",
    "            return l2"
   ],
   "metadata": {
    "collapsed": false,
    "pycharm": {
     "name": "#%%\n"
    }
   }
  },
  {
   "cell_type": "markdown",
   "source": [
    "## 1669. Merge In Between Linked Lists\n",
    "You are given two linked lists: list1 and list2 of sizes n and m respectively.\n",
    "\n",
    "Remove list1's nodes from the ath node to the bth node, and put list2 in their place.\n",
    "\n",
    "The blue edges and nodes in the following figure incidate the result:\n",
    "\n",
    "<img src=\"21.jpg\">\n",
    "\n",
    "### Solution:\n",
    "\n",
    "Find the point a - 1 and point b + 1, connect (a-1).next with list2, find the last point of list2, connect this point to b + 1"
   ],
   "metadata": {
    "collapsed": false,
    "pycharm": {
     "name": "#%% md\n"
    }
   }
  },
  {
   "cell_type": "code",
   "execution_count": null,
   "outputs": [],
   "source": [
    "# Definition for singly-linked list.\n",
    "# class ListNode:\n",
    "#     def __init__(self, val=0, next=None):\n",
    "#         self.val = val\n",
    "#         self.next = next\n",
    "class Solution:\n",
    "    def mergeInBetween(self, list1: ListNode, a: int, b: int, list2: ListNode) -> ListNode:\n",
    "\n",
    "        curr_node = list1\n",
    "        back_node = list1\n",
    "\n",
    "        while b > -1:\n",
    "\n",
    "            if a > 1:\n",
    "                curr_node = curr_node.next\n",
    "                a -= 1\n",
    "            back_node = back_node.next\n",
    "            a -= 1\n",
    "\n",
    "        curr_node.next = list2\n",
    "\n",
    "        while list2.next:\n",
    "\n",
    "            list2 = list2.next\n",
    "\n",
    "        list2.next = back_node\n",
    "\n",
    "        return list1\n"
   ],
   "metadata": {
    "collapsed": false,
    "pycharm": {
     "name": "#%%\n"
    }
   }
  }
 ],
 "metadata": {
  "kernelspec": {
   "display_name": "Python 3",
   "language": "python",
   "name": "python3"
  },
  "language_info": {
   "codemirror_mode": {
    "name": "ipython",
    "version": 2
   },
   "file_extension": ".py",
   "mimetype": "text/x-python",
   "name": "python",
   "nbconvert_exporter": "python",
   "pygments_lexer": "ipython2",
   "version": "2.7.6"
  }
 },
 "nbformat": 4,
 "nbformat_minor": 0
}